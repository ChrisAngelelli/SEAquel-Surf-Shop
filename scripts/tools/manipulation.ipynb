{
 "cells": [
  {
   "cell_type": "code",
   "execution_count": 17,
   "metadata": {},
   "outputs": [],
   "source": [
    "import pandas as pd\n",
    "import numpy as np \n",
    "import csv"
   ]
  },
  {
   "cell_type": "code",
   "execution_count": 38,
   "metadata": {},
   "outputs": [],
   "source": [
    "creation = pd.read_csv(rpath-- Creation.csv\")\n",
    "\n",
    "customer = pd.read_csv(vpath- - Customer.csv\")\n",
    "\n",
    "employee = pd.read_csv(path-n - Employee.csv\")\n",
    "\n",
    "material = pd.read_csv(path- - Material.csv\")\n",
    "\n",
    "shape = pd.read_csv(r\"C:path- - Shape.csv\")\n",
    "\n",
    "shaper = pd.read_csv(r\"path- - Shaper.csv\")\n",
    "\n",
    "supplier = pd.read_csv(r\"C:path-- Supplier.csv\")\n",
    "\n",
    "surfboard = pd.read_csv(r\"path- - Surfboards.csv\")\n",
    "\n",
    "transaction = pd.read_csv(r\"path- Transaction.csv\")"
   ]
  },
  {
   "cell_type": "code",
   "execution_count": 32,
   "metadata": {},
   "outputs": [
    {
     "name": "stdout",
     "output_type": "stream",
     "text": [
      "<class 'pandas.core.frame.DataFrame'>\n",
      "RangeIndex: 250 entries, 0 to 249\n",
      "Data columns (total 6 columns):\n",
      " #   Column         Non-Null Count  Dtype \n",
      "---  ------         --------------  ----- \n",
      " 0   transactionID  250 non-null    int64 \n",
      " 1   customerID     250 non-null    int64 \n",
      " 2   paymentType    250 non-null    object\n",
      " 3   time           250 non-null    object\n",
      " 4   employeeID     250 non-null    int64 \n",
      " 5   date           250 non-null    object\n",
      "dtypes: int64(3), object(3)\n",
      "memory usage: 11.8+ KB\n"
     ]
    }
   ],
   "source": [
    "transaction.info()"
   ]
  },
  {
   "cell_type": "code",
   "execution_count": 33,
   "metadata": {},
   "outputs": [],
   "source": [
    "def quote_converter(data, file):\n",
    "    data = data.astype(str)\n",
    "    data.to_csv(r'C:\path-Documents\\sql_final_project' + file, index=False, quotechar='\"',\n",
    "                      header=None, quoting=csv.QUOTE_NONNUMERIC)"
   ]
  },
  {
   "cell_type": "code",
   "execution_count": 40,
   "metadata": {},
   "outputs": [],
   "source": [
    "quote_converter(creation, '\\\\creation.csv')"
   ]
  },
  {
   "cell_type": "code",
   "execution_count": 35,
   "metadata": {},
   "outputs": [],
   "source": [
    "quote_converter(customer, '\\\\customer.csv')"
   ]
  },
  {
   "cell_type": "code",
   "execution_count": 36,
   "metadata": {},
   "outputs": [],
   "source": [
    "quote_converter(employee, '\\\\employee.csv')"
   ]
  },
  {
   "cell_type": "code",
   "execution_count": 25,
   "metadata": {},
   "outputs": [],
   "source": [
    "quote_converter(material, '\\\\material.csv')"
   ]
  },
  {
   "cell_type": "code",
   "execution_count": 26,
   "metadata": {},
   "outputs": [],
   "source": [
    "quote_converter(shape, '\\\\shape.csv')"
   ]
  },
  {
   "cell_type": "code",
   "execution_count": 27,
   "metadata": {},
   "outputs": [],
   "source": [
    "quote_converter(shaper, '\\\\shaper.csv')"
   ]
  },
  {
   "cell_type": "code",
   "execution_count": 28,
   "metadata": {},
   "outputs": [],
   "source": [
    "quote_converter(supplier, '\\\\suppier.csv')"
   ]
  },
  {
   "cell_type": "code",
   "execution_count": 29,
   "metadata": {},
   "outputs": [],
   "source": [
    "quote_converter(surfboard, '\\\\surfboard.csv')"
   ]
  },
  {
   "cell_type": "code",
   "execution_count": 37,
   "metadata": {},
   "outputs": [],
   "source": [
    "quote_converter(transaction, '\\\\transaction.csv')"
   ]
  }
 ],
 "metadata": {
  "kernelspec": {
   "display_name": "Python 3",
   "language": "python",
   "name": "python3"
  },
  "language_info": {
   "codemirror_mode": {
    "name": "ipython",
    "version": 3
   },
   "file_extension": ".py",
   "mimetype": "text/x-python",
   "name": "python",
   "nbconvert_exporter": "python",
   "pygments_lexer": "ipython3",
   "version": "3.8.5"
  }
 },
 "nbformat": 4,
 "nbformat_minor": 4
}
